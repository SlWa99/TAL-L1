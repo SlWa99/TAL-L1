{
 "cells": [
  {
   "cell_type": "markdown",
   "metadata": {},
   "source": [
    "<img src=\"https://heig-vd.ch/docs/default-source/doc-global-newsletter/2020-slim.svg\" alt=\"HEIG-VD Logo\" width=\"100\" align=\"right\" /> \n",
    "\n",
    "# TAL Labo 1c : Opérations sur une page web en anglais"
   ]
  },
  {
   "cell_type": "markdown",
   "metadata": {},
   "source": [
    "**Objectif** \n",
    "\n",
    "Dans cette troisième partie du Labo1, vous allez refaire une partie des traitements de la partie 1b, mais cette fois-ci sur une page web, spécifiquement une page Wikipedia en anglais (suggestion : \"Switzerland\").  L'objectif est de réviser les principales commandes apprises, et de traiter le format HTML."
   ]
  },
  {
   "cell_type": "code",
   "metadata": {
    "ExecuteTime": {
     "end_time": "2025-02-20T20:45:26.623294Z",
     "start_time": "2025-02-20T20:45:26.607456Z"
    }
   },
   "source": [
    "import matplotlib.pyplot as plt\n",
    "import nltk\n",
    "import os\n",
    "from urllib import request\n",
    "import matplotlib.pyplot\n",
    "from nltk import word_tokenize\n",
    "from numpy.core.defchararray import rfind\n",
    "%matplotlib inline\n",
    "nltk.download('punkt')"
   ],
   "outputs": [
    {
     "name": "stderr",
     "output_type": "stream",
     "text": [
      "[nltk_data] Downloading package punkt to\n",
      "[nltk_data]     C:\\Users\\faxiz\\AppData\\Roaming\\nltk_data...\n",
      "[nltk_data]   Package punkt is already up-to-date!\n"
     ]
    },
    {
     "data": {
      "text/plain": [
       "True"
      ]
     },
     "execution_count": 75,
     "metadata": {},
     "output_type": "execute_result"
    }
   ],
   "execution_count": 75
  },
  {
   "cell_type": "markdown",
   "metadata": {},
   "source": [
    "**1.** S'inspirer du [chapitre 3 du livre NLTK](http://www.nltk.org/book/ch03.html) pour faire une requête et récupérer le contenu de la page indiquée dans `url2`.  Quelle est la longueur de la chaîne de caractères obtenue ?"
   ]
  },
  {
   "cell_type": "code",
   "metadata": {
    "ExecuteTime": {
     "end_time": "2025-02-20T20:45:28.644394Z",
     "start_time": "2025-02-20T20:45:28.289748Z"
    }
   },
   "source": [
    "url2 = \"https://en.wikipedia.org/wiki/Switzerland\" \n",
    "\n",
    "response = request.urlopen(url2)\n",
    "html2 = response.read().decode(\"utf8\")\n",
    "print(\"raw text len :\" + str(len(html2)))"
   ],
   "outputs": [
    {
     "name": "stdout",
     "output_type": "stream",
     "text": [
      "raw text len :1036287\n"
     ]
    }
   ],
   "execution_count": 76
  },
  {
   "cell_type": "markdown",
   "metadata": {},
   "source": [
    "Nous utilserons l'outil `BeautifulSoup` disponible sous forme de module Python pour extraire tout le texte de la page HTML.  Si le code source de la page est stocké dans `html2`, on extrait le texte dans `raw2`."
   ]
  },
  {
   "cell_type": "code",
   "metadata": {
    "ExecuteTime": {
     "end_time": "2025-02-20T20:45:31.681775Z",
     "start_time": "2025-02-20T20:45:31.667165Z"
    }
   },
   "source": [
    "from bs4 import BeautifulSoup"
   ],
   "outputs": [],
   "execution_count": 77
  },
  {
   "cell_type": "code",
   "metadata": {
    "ExecuteTime": {
     "end_time": "2025-02-20T20:45:33.175349Z",
     "start_time": "2025-02-20T20:45:32.822508Z"
    }
   },
   "source": "raw2 = BeautifulSoup(html2).get_text()",
   "outputs": [],
   "execution_count": 78
  },
  {
   "cell_type": "markdown",
   "metadata": {},
   "source": [
    "**2.** Veuillez réutiliser la méthode du _notebook_ 1b pour enlever le début et la fin de la chaîne `raw2`, car ils contiennent du texte qui n'est pas pertinent pour notre analyse (il ne parle pas de la Suisse).  Quelle est la longueur du résultat ?  Veuillez afficher ses 100 premiers et 100 derniers caractères."
   ]
  },
  {
   "cell_type": "code",
   "metadata": {
    "ExecuteTime": {
     "end_time": "2025-02-20T20:49:03.753137Z",
     "start_time": "2025-02-20T20:49:03.731013Z"
    }
   },
   "source": [
    "# Regex pour supprimer tout ce qui est entre [], crochet inclus\n",
    "import re\n",
    "\n",
    "# Position de début et de fin du texte\n",
    "startPosition = raw2.find(\"Switzerland,[d] officially the Swiss Confederation,\")\n",
    "lastSentence = \"Merlot is the main variety produced in Ticino.\"\n",
    "endPosition = raw2.rfind(lastSentence)\n",
    "\n",
    "# Clean du text\n",
    "cleanRaw = raw2[startPosition:endPosition + len(lastSentence)]\n",
    "cleanRaw = cleanRaw.replace(\"\\n\", \" \")\n",
    "cleanRaw = re.sub(r'\\[.*?\\]', '', cleanRaw)\n",
    "\n",
    "# Affichage des résultats\n",
    "print(\"Longueur du texte nettoyé : \" + str(len(cleanRaw)))\n",
    "print(\"100 premiers caractères : \" + cleanRaw[:100])\n",
    "print(\"100 derniers caractères : \" + cleanRaw[-100:])"
   ],
   "outputs": [
    {
     "name": "stdout",
     "output_type": "stream",
     "text": [
      "Longueur du texte nettoyé : 88555\n",
      "100 premiers caractères : Switzerland, officially the Swiss Confederation, is a landlocked country located in west-central Eur\n",
      "100 derniers caractères :  Chasselas (called Fendant in Valais) and Pinot Noir. Merlot is the main variety produced in Ticino.\n"
     ]
    }
   ],
   "execution_count": 80
  },
  {
   "cell_type": "markdown",
   "metadata": {},
   "source": [
    "**3.** Veuillez effectuer la segmentation en phrases, puis tokeniser chaque phrase.  Veuillez écrire le résultat (une phrase par ligne, espaces entre *tokens*) dans un fichier `sample_web_page.txt` et inspectez-le avec un éditeur de texte.  Observez-vous des imperfections ?"
   ]
  },
  {
   "cell_type": "code",
   "metadata": {
    "ExecuteTime": {
     "end_time": "2025-02-20T21:20:32.850653Z",
     "start_time": "2025-02-20T21:20:32.834354Z"
    }
   },
   "source": [
    "filename = \"sample_web_page.txt\"\n",
    "# Pour un fichier local : chemin relatif par rapport au notebook\n",
    "# Pour Google Colab, p.ex.: /content/gdrive/My Drive/sample_web_page.txt\n",
    "if os.path.exists(filename): \n",
    "    os.remove(filename)\n",
    "fd = open(filename, 'a', encoding='utf8')\n",
    "# Veuillez écrire votre code ci-dessous, puis exécuter cette cellule.\n",
    "sents = nltk.sent_tokenize(cleanRaw)\n",
    "for sent in sents:\n",
    "    words = nltk.word_tokenize(sent)\n",
    "    fd.write(\" \".join(words) + \"\\n\")\n",
    "fd.close()"
   ],
   "outputs": [
    {
     "ename": "PermissionError",
     "evalue": "[WinError 32] Le processus ne peut pas accéder au fichier car ce fichier est utilisé par un autre processus: 'sample_web_page.txt'",
     "output_type": "error",
     "traceback": [
      "\u001B[1;31m---------------------------------------------------------------------------\u001B[0m",
      "\u001B[1;31mPermissionError\u001B[0m                           Traceback (most recent call last)",
      "\u001B[1;32m~\\AppData\\Local\\Temp/ipykernel_12984/58215532.py\u001B[0m in \u001B[0;36m<module>\u001B[1;34m\u001B[0m\n\u001B[0;32m      3\u001B[0m \u001B[1;31m# Pour Google Colab, p.ex.: /content/gdrive/My Drive/sample_web_page.txt\u001B[0m\u001B[1;33m\u001B[0m\u001B[1;33m\u001B[0m\u001B[0m\n\u001B[0;32m      4\u001B[0m \u001B[1;32mif\u001B[0m \u001B[0mos\u001B[0m\u001B[1;33m.\u001B[0m\u001B[0mpath\u001B[0m\u001B[1;33m.\u001B[0m\u001B[0mexists\u001B[0m\u001B[1;33m(\u001B[0m\u001B[0mfilename\u001B[0m\u001B[1;33m)\u001B[0m\u001B[1;33m:\u001B[0m\u001B[1;33m\u001B[0m\u001B[1;33m\u001B[0m\u001B[0m\n\u001B[1;32m----> 5\u001B[1;33m     \u001B[0mos\u001B[0m\u001B[1;33m.\u001B[0m\u001B[0mremove\u001B[0m\u001B[1;33m(\u001B[0m\u001B[0mfilename\u001B[0m\u001B[1;33m)\u001B[0m\u001B[1;33m\u001B[0m\u001B[1;33m\u001B[0m\u001B[0m\n\u001B[0m\u001B[0;32m      6\u001B[0m \u001B[0mfd\u001B[0m \u001B[1;33m=\u001B[0m \u001B[0mopen\u001B[0m\u001B[1;33m(\u001B[0m\u001B[0mfilename\u001B[0m\u001B[1;33m,\u001B[0m \u001B[1;34m'a'\u001B[0m\u001B[1;33m,\u001B[0m \u001B[0mencoding\u001B[0m\u001B[1;33m=\u001B[0m\u001B[1;34m'utf8'\u001B[0m\u001B[1;33m)\u001B[0m\u001B[1;33m\u001B[0m\u001B[1;33m\u001B[0m\u001B[0m\n\u001B[0;32m      7\u001B[0m \u001B[1;31m# Veuillez écrire votre code ci-dessous, puis exécuter cette cellule.\u001B[0m\u001B[1;33m\u001B[0m\u001B[1;33m\u001B[0m\u001B[0m\n",
      "\u001B[1;31mPermissionError\u001B[0m: [WinError 32] Le processus ne peut pas accéder au fichier car ce fichier est utilisé par un autre processus: 'sample_web_page.txt'"
     ]
    }
   ],
   "execution_count": 86
  },
  {
   "cell_type": "code",
   "execution_count": null,
   "metadata": {},
   "outputs": [],
   "source": [
    "# Votre appréciation de la qualité ici :\n",
    "\"\"\"\n",
    "De prime abord, le résultat obtenu nous semble pas trop mal. En effet, le prétraitement effectuée (remplacement des \\n par des espaces blancs et supression des notes de bas de pages [...]) permet d'obtenir quelque chose de relativement propre.\n",
    "\"\"\""
   ]
  },
  {
   "cell_type": "markdown",
   "metadata": {},
   "source": [
    "**4.** Veuillez maintenant effectuer la tokenisation de cette page **sans** faire de segmentation en phrases.  Stockez le résultat dans une variable (p.ex. `words2`) sans écrire de fichier.  Combien de tokens possède ce texte ?"
   ]
  },
  {
   "cell_type": "code",
   "metadata": {
    "ExecuteTime": {
     "end_time": "2025-02-20T21:23:07.345709Z",
     "start_time": "2025-02-20T21:23:07.250790Z"
    }
   },
   "source": [
    "# Veuillez écrire votre code ci-dessous, puis exécuter cette cellule.\n",
    "words2 = nltk.word_tokenize(cleanRaw)\n",
    "print(\"Nombre de tokens : \" + str(len(words2)))"
   ],
   "outputs": [
    {
     "name": "stdout",
     "output_type": "stream",
     "text": [
      "Nombre de tokens : 15963\n"
     ]
    }
   ],
   "execution_count": 87
  },
  {
   "cell_type": "markdown",
   "metadata": {},
   "source": [
    "**5.** Veuillez créer un objet de type `nltk.Text` à partir de la liste de *tokens* `words2`.\n",
    "* Déterminez le vocabulaire de cette page (la liste des _types_) en convertissant cet objet en un `set`.  \n",
    "* Combien de mots différents y a-t-il dans le vocabulaire, incluant les ponctuations et tout autre symbole ? \n",
    "* Quels sont les 20 types les plus longs ? Que pensez-vous du résultat trouvé ?"
   ]
  },
  {
   "cell_type": "code",
   "metadata": {
    "ExecuteTime": {
     "end_time": "2025-02-20T21:36:43.359636Z",
     "start_time": "2025-02-20T21:36:43.340433Z"
    }
   },
   "source": [
    "# Veuillez écrire votre code ci-dessous, puis exécuter cette cellule.\n",
    "# Création de l'objet Text\n",
    "nltkText = nltk.Text(words2)\n",
    "\n",
    "# Création du Set pour obtenir le vocabulaire ainsi que le nombre de mots différents\n",
    "vocabulary = set(nltkText)\n",
    "print(\"Nombre de mots différents : \" + str(len(vocabulary)))\n",
    "\n",
    "# Récupération des 20 types les plus longs\n",
    "longest_words = sorted(vocabulary, key=len, reverse=True)[:20]\n",
    "print(\"\\nLes 20 types les plus longs :\")\n",
    "for i, word in enumerate(longest_words, 1):\n",
    "    print(f\"{i}. {word} ({len(word)} caractères)\")"
   ],
   "outputs": [
    {
     "name": "stdout",
     "output_type": "stream",
     "text": [
      "Nombre de mots différents : 3913\n",
      "\n",
      "Les 20 types les plus longs :\n",
      "1. Donau-Iller-Rhine-Limes (23 caractères)\n",
      "2. 65,000-kilometre-long (21 caractères)\n",
      "3. policies—contributes (20 caractères)\n",
      "4. Switzerland–European (20 caractères)\n",
      "5. machines/electronics (20 caractères)\n",
      "6. non-German-speaking (19 caractères)\n",
      "7. instruments/watches (19 caractères)\n",
      "8. 57.1-kilometre-long (19 caractères)\n",
      "9. near-Mediterranean (18 caractères)\n",
      "10. autobahn/autoroute (18 caractères)\n",
      "11. multi-disciplinary (18 caractères)\n",
      "12. commander-in-chief (18 caractères)\n",
      "13. Non-Proliferation (17 caractères)\n",
      "14. Weiterentwicklung (17 caractères)\n",
      "15. Gallen-Altenrhein (17 caractères)\n",
      "16. Telecommunication (17 caractères)\n",
      "17. pre-revolutionary (17 caractères)\n",
      "18. Romansh-speaking (16 caractères)\n",
      "19. authoritarianism (16 caractères)\n",
      "20. Sonderbundskrieg (16 caractères)\n"
     ]
    }
   ],
   "execution_count": 91
  },
  {
   "cell_type": "code",
   "execution_count": null,
   "metadata": {},
   "outputs": [],
   "source": [
    "# Votre réponse à la question ici :\n",
    "\"\"\"\n",
    "En voyant cela, nous pensons que tokenization peut être améliorer. Concernant les mots composés avec trait d'union, certains d'entre eux sont correctement préservés tel que \"non-German-speaking\" mais que d'autres auraient pu être séparés comme par exmple \"65,000-kilometre-long\".\n",
    "\n",
    "Il y a également des caractères spéciaux qui devraient disparaitre tel que \"/\" et \"—\".\n",
    "\n",
    "Pour améliorer cela, il faudait traiter de manière uniforme tous les types de \"tirets\", gérer les slashs et les tirets longs. Les nombres pourraient également être séparés des unités (\"65,000-kilometre-long\" => \"65,000\", \"kilometre\", \"long\").\n",
    "\"\"\""
   ]
  },
  {
   "cell_type": "markdown",
   "metadata": {},
   "source": [
    "**6.** Veuillez construire un objet `FreqDist` avec les mots de cette page, en convertissant en minuscules tous les mots contenant seulement des lettres (utilisez la méthode `.isalpha()` de Python).  Quels sont les 30 mots les plus fréquents ?"
   ]
  },
  {
   "cell_type": "code",
   "metadata": {
    "ExecuteTime": {
     "end_time": "2025-02-20T22:48:29.310490Z",
     "start_time": "2025-02-20T22:48:29.267399Z"
    }
   },
   "source": [
    "# Veuillez écrire votre code ci-dessous, puis exécuter cette cellule.\n",
    "# Création de l'objet FreqDist\n",
    "fdist = nltk.FreqDist(w.lower() for w in words2 if w.isalpha())\n",
    "# Récupération des 30 mots les plus fréquents\n",
    "most_common = fdist.most_common(30)\n",
    "print(\"\\nLes 30 mots les plus fréquents :\")\n",
    "for i, (word, freq) in enumerate(most_common, 1):\n",
    "    print(f\"{i}. {word} ({freq} occurrences)\")"
   ],
   "outputs": [
    {
     "name": "stdout",
     "output_type": "stream",
     "text": [
      "\n",
      "Les 30 mots les plus fréquents :\n",
      "1. the (1152 occurrences)\n",
      "2. of (555 occurrences)\n",
      "3. in (463 occurrences)\n",
      "4. and (458 occurrences)\n",
      "5. to (232 occurrences)\n",
      "6. switzerland (224 occurrences)\n",
      "7. swiss (182 occurrences)\n",
      "8. a (176 occurrences)\n",
      "9. is (151 occurrences)\n",
      "10. as (102 occurrences)\n",
      "11. federal (94 occurrences)\n",
      "12. by (92 occurrences)\n",
      "13. are (87 occurrences)\n",
      "14. for (87 occurrences)\n",
      "15. was (85 occurrences)\n",
      "16. with (78 occurrences)\n",
      "17. from (70 occurrences)\n",
      "18. it (61 occurrences)\n",
      "19. world (52 occurrences)\n",
      "20. at (49 occurrences)\n",
      "21. has (47 occurrences)\n",
      "22. on (46 occurrences)\n",
      "23. most (44 occurrences)\n",
      "24. its (44 occurrences)\n",
      "25. an (41 occurrences)\n",
      "26. one (39 occurrences)\n",
      "27. population (39 occurrences)\n",
      "28. cantons (38 occurrences)\n",
      "29. main (38 occurrences)\n",
      "30. other (38 occurrences)\n"
     ]
    }
   ],
   "execution_count": 92
  },
  {
   "cell_type": "markdown",
   "metadata": {},
   "source": [
    "**7.** Veuillez afficher le graphique cumulatif du nombre d'occurrences des 70 mots les plus fréquents de votre texte."
   ]
  },
  {
   "cell_type": "code",
   "metadata": {
    "ExecuteTime": {
     "end_time": "2025-02-20T22:57:10.509898Z",
     "start_time": "2025-02-20T22:57:10.047892Z"
    }
   },
   "source": [
    "# Veuillez écrire votre code ci-dessous, puis exécuter cette cellule.\n",
    "import matplotlib.pyplot as plt\n",
    "plt.figure(figsize=(15, 8))\n",
    "fdist.plot(70, cumulative=True, title=\"Nombre d'occurrences cumulatif des 70 mots les plus fréquents\")"
   ],
   "outputs": [
    {
     "data": {
      "text/plain": [
       "<Figure size 1080x576 with 1 Axes>"
      ],
      "image/png": "[encoded data removed]"
     },
     "metadata": {
      "needs_background": "light"
     },
     "output_type": "display_data"
    },
    {
     "data": {
      "text/plain": [
       "<AxesSubplot:title={'center':\"Nombre d'occurrences des 70 mots les plus fréquents\"}, xlabel='Samples', ylabel='Cumulative Counts'>"
      ]
     },
     "execution_count": 101,
     "metadata": {},
     "output_type": "execute_result"
    }
   ],
   "execution_count": 101
  },
  {
   "cell_type": "markdown",
   "metadata": {},
   "source": [
    "**8.** Veuillez construire une liste avec la longueur de chaque token du texte, créez un nouvel objet `FreqDist` à partir de cette liste, et affichez la distribution (non-cumulative) des nombres d'occurrences pour chaque longueur.  Qu'observez-vous ?"
   ]
  },
  {
   "cell_type": "code",
   "metadata": {
    "ExecuteTime": {
     "end_time": "2025-02-20T23:01:38.929143Z",
     "start_time": "2025-02-20T23:01:38.780286Z"
    }
   },
   "source": [
    "# Veuillez écrire votre code ci-dessous, puis exécuter cette cellule.\n",
    "tokensLength = [len(w) for w in words2]\n",
    "freqDist = nltk.FreqDist(tokensLength)\n",
    "plt.figure(figsize=(15, 8))\n",
    "freqDist.plot(title=\"Distribution des longueurs des tokens\")"
   ],
   "outputs": [
    {
     "data": {
      "text/plain": [
       "<Figure size 1080x576 with 1 Axes>"
      ],
      "image/png": "[encoded data removed]"
     },
     "metadata": {
      "needs_background": "light"
     },
     "output_type": "display_data"
    },
    {
     "data": {
      "text/plain": [
       "<AxesSubplot:title={'center':'Distribution des longueurs des tokens'}, xlabel='Samples', ylabel='Counts'>"
      ]
     },
     "execution_count": 105,
     "metadata": {},
     "output_type": "execute_result"
    }
   ],
   "execution_count": 105
  },
  {
   "cell_type": "code",
   "execution_count": null,
   "metadata": {},
   "outputs": [],
   "source": [
    "# Votre réponse à la question ici :\n",
    "\"\"\"\n",
    "La distribution des longueurs des mots dans ce texte suit un schéma assez logique. On voit que la plupart des mots ont entre 3 et 8 lettres, avec un pic vers 3-4 caractères. C'est plutôt normal vu qu'en anglais, on utilise beaucoup de petits mots comme \"the\", \"of\" ou \"in\" (stop words).\n",
    "La courbe chute ensuite progressivement, ce qui montre que les mots plus longs sont moins fréquents. Après 15 caractères, on trouve très peu de mots, sûrement des termes techniques ou des mots composés.\n",
    "C'est une distribution assez typique pour un texte en anglais.\n",
    "\"\"\""
   ]
  },
  {
   "cell_type": "markdown",
   "metadata": {},
   "source": [
    "## Fin de la partie 1c du Labo1\n",
    "Veuillez nettoyer autant que possible ce _notebook_, exécutez une dernière fois toutes les cellules pour obtenir les résultats demandés, et enregistrez le _notebook_ sous le nom `TAL_labo1c_NOM1_NOM2.ipynb`.  Ajoutez-le dans une archive _zip_ avec le _notebook_ 1b, et soumettez l'archive individuellement sur Cyberlearn. "
   ]
  }
 ],
 "metadata": {
  "kernelspec": {
   "display_name": "Python 3 (ipykernel)",
   "language": "python",
   "name": "python3"
  },
  "language_info": {
   "codemirror_mode": {
    "name": "ipython",
    "version": 3
   },
   "file_extension": ".py",
   "mimetype": "text/x-python",
   "name": "python",
   "nbconvert_exporter": "python",
   "pygments_lexer": "ipython3",
   "version": "3.10.13"
  }
 },
 "nbformat": 4,
 "nbformat_minor": 4
}
